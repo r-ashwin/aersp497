{
 "cells": [
  {
   "cell_type": "code",
   "execution_count": 1,
   "id": "ece2c557-98bd-4534-9b54-7172ea6cdb0a",
   "metadata": {},
   "outputs": [],
   "source": [
    "import numpy as np\n",
    "import matplotlib.pyplot as plt\n",
    "from matplotlib import cm\n",
    "import matplotlib as mpl\n",
    "import matplotlib.patches as patches\n",
    "import jax.numpy as jnp # this is a thin wrapper to NumPy within JAX\n",
    "from jax import grad, hessian\n",
    "from scipy.optimize import minimize\n",
    "from scipy.optimize import Bounds\n",
    "\n",
    "mpl.rcParams['lines.linewidth'] = 2\n",
    "mpl.rc('xtick', labelsize=18) \n",
    "mpl.rc('ytick', labelsize=18) \n",
    "mpl.rc('axes', labelsize=18) \n",
    "mpl.rc('font', size=18) \n",
    "plt.rcParams.update({\n",
    "    'text.usetex': True,\n",
    "    'font.family': 'serif',\n",
    "})"
   ]
  },
  {
   "cell_type": "markdown",
   "id": "d3d77f31-f2c8-4469-951d-327d8a2dd0b6",
   "metadata": {},
   "source": [
    "# Problem: constrained rosenbrock\n",
    "$\\min_x~f(x) = 100\\times (x_2 - x_1^2)^2 + (1 - x_1)^2$\n",
    "\n",
    "subject to\n",
    "\n",
    "$c_1(x): x_1 + 2x_2 \\leq 1$\n",
    "\n",
    "$c_2(x): x_1^2 + x_2 \\leq 1$\n",
    "\n",
    "$c_3(x): x_1^2 - x_2 \\leq 1$\n",
    "\n",
    "$c_4(x): 2x_1 + x_2 = 1$\n",
    "\n",
    "$0 \\leq x_1 \\leq 1$\n",
    "\n",
    "$0.5 \\leq x_2 \\leq 2.0$"
   ]
  },
  {
   "cell_type": "markdown",
   "id": "246aac7f-9c79-4215-a19b-ff38ccce9cec",
   "metadata": {},
   "source": [
    "## Define objective function, constraints, and variable bounds\n",
    "\n",
    " - Notice that inequality constraints are redfined to comply with $c_i(x) \\geq 0$\n",
    " - Notice that bound constraints are separately defined using the `bounds` oobject"
   ]
  },
  {
   "cell_type": "code",
   "execution_count": 2,
   "id": "0a562a2f-110d-4efd-8ea1-7f8f0f118ce0",
   "metadata": {},
   "outputs": [],
   "source": [
    "def f(x):\n",
    "    \"\"\"The Rosenbrock function\"\"\"\n",
    "    return 100.0 * (x[1] - x[0]**2.0)**2.0 + (1-x[0])**2.0\n",
    "\n",
    "c1 = lambda x: 1 - x[0]    - 2*x[1]\n",
    "c2 = lambda x: 1 - x[0]**2 - x[1]\n",
    "c3 = lambda x: 1 - x[0]**2 + x[1]\n",
    "c4 = lambda x: 2 * x[0]    + x[1] - 1 # equality constraint\n",
    "\n",
    "bounds = Bounds([0, -0.5], [1.0, 2.0])"
   ]
  },
  {
   "cell_type": "markdown",
   "id": "60faf4d1-b832-46fa-9784-4c843919add9",
   "metadata": {},
   "source": [
    "# Define constraints for SciPy minimize\n",
    "\n",
    "This is where we differntiate the inequality from equality constraints"
   ]
  },
  {
   "cell_type": "code",
   "execution_count": 3,
   "id": "83b29389-2d91-4588-b332-5f280f9feacd",
   "metadata": {},
   "outputs": [],
   "source": [
    "ineq_con1 = {'type': 'ineq',\n",
    "             'fun': c1,\n",
    "             'jac': grad(c1)}\n",
    "ineq_con2 = {'type': 'ineq',\n",
    "             'fun': c2,\n",
    "             'jac': grad(c2)}\n",
    "ineq_con3 = {'type': 'ineq',\n",
    "             'fun': c3,\n",
    "             'jac': grad(c3)}\n",
    "eq_con1   = {'type': 'eq',\n",
    "             'fun': c4,\n",
    "             'jac': grad(c4)}"
   ]
  },
  {
   "cell_type": "code",
   "execution_count": 8,
   "id": "eb11ac51-1ba9-40a8-b907-92ab8368f8e6",
   "metadata": {},
   "outputs": [
    {
     "name": "stdout",
     "output_type": "stream",
     "text": [
      "cons value [-2. -1.  1.  2.]\n",
      "cons violation [4. 1. 0. 4.]\n",
      "MCV 4.0\n"
     ]
    }
   ],
   "source": [
    "x = np.array([1., 1.])\n",
    "constraint_array = np.array([c1(x), c2(x), c3(x), c4(x)])\n",
    "print(f'cons value {constraint_array}')\n",
    "constraint_violation = np.array([max(0, -c1(x))**2, max(0, -c2(x))**2, max(0, -c3(x))**2, c4(x)**2])\n",
    "print(f'cons violation {constraint_violation}')\n",
    "mcv = np.linalg.norm(constraint_violation, np.inf)\n",
    "print(f'MCV {mcv}')"
   ]
  },
  {
   "cell_type": "markdown",
   "id": "317b2f87-4d2a-4624-820d-bc0fe27bcd3f",
   "metadata": {},
   "source": [
    "# Define a `callback` function to store optimization histories"
   ]
  },
  {
   "cell_type": "code",
   "execution_count": null,
   "id": "9c2a722f-372d-4c18-bceb-c9d1668cbca0",
   "metadata": {},
   "outputs": [],
   "source": [
    "def callback(x):\n",
    "    xx.append(x) # iterate xk\n",
    "    fx.append(f(x)) # function value\n",
    "    c1x.append(ineq_con1['fun'](x)) # constraint evaluation for c1 only\n",
    "\n",
    "    print(f'xk {x}, fk {f(x)}, c1 {c1(x)} ')"
   ]
  },
  {
   "cell_type": "markdown",
   "id": "1ff2d8d4-dde8-4915-9c19-c891ddda28c7",
   "metadata": {},
   "source": [
    "# Finally, solve the constrained optimization problem"
   ]
  },
  {
   "cell_type": "code",
   "execution_count": null,
   "id": "5acd48ab-b9a4-4edc-b685-c126db27d7b9",
   "metadata": {},
   "outputs": [],
   "source": [
    "x0 = np.array([1.0, 2.0])\n",
    "\n",
    "xx = [] \n",
    "fx = []\n",
    "c1x = [] \n",
    "\n",
    "res = minimize(f, x0, method='SLSQP',  jac=grad(f),\n",
    "               constraints=[ineq_con1, ineq_con2, ineq_con3, eq_con1], \n",
    "               options={'ftol': 1e-9, 'disp': True},\n",
    "               bounds=bounds, callback=callback)"
   ]
  },
  {
   "cell_type": "markdown",
   "id": "e66994f9-e87b-4ef8-9a37-cd5561b67256",
   "metadata": {},
   "source": [
    "# Penalty method\n",
    "## Define the objective and constraint functions"
   ]
  },
  {
   "cell_type": "code",
   "execution_count": null,
   "id": "2be12560-23b9-4a9a-99bc-b10fea3c9d20",
   "metadata": {},
   "outputs": [],
   "source": [
    "branin = lambda x: jnp.asarray( (x[...,1] - 5.1/4/jnp.pi**2 * x[...,0]**2 + 5/jnp.pi * x[...,0] - 6)**2 + 10*(1 - 1/8/jnp.pi)*jnp.cos(x[...,0]) + 10 )\n",
    "c1 = \n",
    "c2 = \n",
    "c3 = \n",
    "c4 = \n",
    "c5 = \n",
    "c6 = \n",
    "c7 = "
   ]
  },
  {
   "cell_type": "code",
   "execution_count": null,
   "id": "73f104a0-99a8-4191-839f-d3bf8fb74111",
   "metadata": {},
   "outputs": [],
   "source": [
    "def linesearch_loop(x0, tauk, func, bounds, disp_iter=False):\n",
    "    r\"\"\"\n",
    "    This is the full loop of line search that you implemented for HWs 2&3\n",
    "    The arguments and returning variables are only suggestions (what I used)\n",
    "    \"\"\"\n",
    "\n",
    "    print('----------------------------------')\n",
    "    return xk, np.array(ginf_fr)"
   ]
  },
  {
   "cell_type": "code",
   "execution_count": null,
   "id": "f8a8f2d6-a720-474e-ab3b-5b53a0008681",
   "metadata": {
    "scrolled": true
   },
   "outputs": [],
   "source": [
    "mu0 = 0.001\n",
    "eta = 0.5\n",
    "rho = 2.\n",
    "tau0= 1.\n",
    "x0 = np.array([6., 14.])\n",
    "xk_array = [x0]\n",
    "gfp_array = []\n",
    "bounds_branin = np.array([[-5., 0], [10., 15.]])\n",
    "project_x = lambda x, bounds=bounds_branin: np.maximum(np.minimum(x, bounds[1]), bounds[0])\n",
    "\n",
    "tauk = tau0\n",
    "muk  = mu0\n",
    "while tauk > 1e-4 or muk < 10:\n",
    "    f_penalized = lambda x: branin(x) + 0.5 * muk * c3(x)**2\n",
    "    xk, ginf_fr = linesearch_loop(x0, tauk, f_penalized, bounds_branin, disp_iter=True)\n",
    "    x0 = xk # starting points for next iteration\n",
    "    muk = muk * rho\n",
    "    tauk= tauk* eta\n",
    "    xk_array.append(xk)\n",
    "    gfp_array.append(ginf_fr)"
   ]
  },
  {
   "cell_type": "code",
   "execution_count": null,
   "id": "0db4b372-8b0f-44fb-a4c1-58d823b87680",
   "metadata": {},
   "outputs": [],
   "source": [
    "# plot branin\n",
    "m = 40\n",
    "xv, yv = np.meshgrid(np.linspace(-5,10, m), np.linspace(0,15,m))\n",
    "x = np.column_stack((xv.reshape(-1,1), yv.reshape(-1,1)))\n",
    "xk_ = np.array(xk_array)\n",
    "\n",
    "fig = plt.figure(figsize=(12,8))\n",
    "ax2 = fig.add_subplot(121)\n",
    "cp  = ax2.contourf(xv,yv,branin(x).reshape(m,m), levels=25)\n",
    "cp3 = ax2.contour(xv,yv,c3(x).reshape(m,m), levels=[0.], linewidths=4, colors='g')\n",
    "ax2.plot([6.], [14.], marker='o', c='k')\n",
    "ax2.plot(xk_[:,0], xk_[:,1], c='w', marker='.', label='trajectory')\n",
    "ax2.set_xlabel(r'$x_1$')\n",
    "ax2.set_ylabel(r'$x_2$')\n",
    "ax2.legend()\n",
    "\n",
    "gfp = np.concatenate(gfp_array)\n",
    "ax1 = fig.add_subplot(122)\n",
    "ax1.semilogy(np.arange(gfp.shape[0]), gfp, marker='.', lw=2)\n",
    "ax1.set_xlabel('accumultaed iterations')\n",
    "ax1.set_ylabel(r'$\\| \\nabla \\hat{f}(\\mathbf{x}_k; \\mu_k)\\|$')\n",
    "plt.tight_layout()"
   ]
  },
  {
   "cell_type": "code",
   "execution_count": null,
   "id": "be1ea1c8-7e29-4483-b7c7-e8c2d0eaaf9d",
   "metadata": {},
   "outputs": [],
   "source": []
  }
 ],
 "metadata": {
  "kernelspec": {
   "display_name": "Python 3",
   "language": "python",
   "name": "python3"
  },
  "language_info": {
   "codemirror_mode": {
    "name": "ipython",
    "version": 3
   },
   "file_extension": ".py",
   "mimetype": "text/x-python",
   "name": "python",
   "nbconvert_exporter": "python",
   "pygments_lexer": "ipython3",
   "version": "3.8.8"
  }
 },
 "nbformat": 4,
 "nbformat_minor": 5
}
