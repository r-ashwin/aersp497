{
 "cells": [
  {
   "cell_type": "code",
   "execution_count": 1,
   "id": "2a08138d-3784-42ff-9ed7-35b024900c57",
   "metadata": {},
   "outputs": [],
   "source": [
    "import numpy as np\n",
    "import matplotlib.pyplot as plt\n",
    "import matplotlib as mpl\n",
    "import matplotlib.patches as patches\n",
    "import jax.numpy as jnp # this is a thin wrapper to NumPy within JAX\n",
    "from jax import grad, hessian\n",
    "\n",
    "mpl.rcParams['lines.linewidth'] = 2\n",
    "mpl.rc('xtick', labelsize=18) \n",
    "mpl.rc('ytick', labelsize=18) \n",
    "mpl.rc('axes', labelsize=18) \n",
    "mpl.rc('font', size=18) \n",
    "plt.rcParams.update({\n",
    "    'text.usetex': True,\n",
    "    'font.family': 'serif',\n",
    "})"
   ]
  },
  {
   "cell_type": "markdown",
   "id": "fb5903f1-3b8f-4a76-ada9-f42dee6afe8e",
   "metadata": {},
   "source": [
    "# define objective function and constraints"
   ]
  },
  {
   "cell_type": "code",
   "execution_count": 2,
   "id": "392f372b-d833-471a-bde4-9de6627f5684",
   "metadata": {},
   "outputs": [],
   "source": [
    "f = lambda x: (3*x[...,0]**2 + x[...,1]**2 + 2*x[...,0]*x[...,1] + x[...,0] + 6*x[...,1]).squeeze()\n",
    "c_1 = lambda x: (2.*x[...,0] + 3*x[...,1] - 4.).squeeze()\n",
    "c_2 = lambda x: (x[...,0]).squeeze()\n",
    "c_3 = lambda x: (x[...,1]).squeeze()\n",
    "c = [c_1, c_2, c_3]\n",
    "d = np.array([-4., 0., 0.]) # RHS of constraint equations"
   ]
  },
  {
   "cell_type": "code",
   "execution_count": 3,
   "id": "dd5d7f25-3091-484d-94a2-1d78058e27c0",
   "metadata": {
    "tags": []
   },
   "outputs": [],
   "source": [
    "m = len(c)\n",
    "n = 2\n",
    "xk = np.array([[3., 2.]]) # starting point\n",
    "Bk = hessian(f)(xk).squeeze() # function hessian\n",
    "Ck = np.concatenate([grad(c[i])(xk) for i in range(m)])"
   ]
  },
  {
   "cell_type": "code",
   "execution_count": 4,
   "id": "fae081fc-a50e-4777-aaee-f2b583ad3b3e",
   "metadata": {
    "tags": []
   },
   "outputs": [
    {
     "name": "stdout",
     "output_type": "stream",
     "text": [
      "constraint 1 at [[3. 2.]] 8.0\n",
      "constraint 2 at [[3. 2.]] 3.0\n",
      "constraint 3 at [[3. 2.]] 2.0\n",
      "0 of 3 constraints are active\n"
     ]
    }
   ],
   "source": [
    "Wk = []\n",
    "# find which constraints are active\n",
    "for i in range(m):\n",
    "    print(f'constraint {i+1} at {xk} {c[i](xk)}')\n",
    "    if np.abs(c[i](xk)) <= 1e-12:\n",
    "        Wk.append(i)\n",
    "print(f'{len(Wk)} of {m} constraints are active')"
   ]
  },
  {
   "cell_type": "markdown",
   "id": "e5ba6f81-26d8-4b8d-9199-36d84d7e30bc",
   "metadata": {},
   "source": [
    "# Now we construct the KKT system $L [x, \\lambda]^T = y$"
   ]
  },
  {
   "cell_type": "code",
   "execution_count": 5,
   "id": "915bb3c8-e5b4-47cd-afba-009a9351c4e3",
   "metadata": {
    "tags": []
   },
   "outputs": [
    {
     "name": "stdout",
     "output_type": "stream",
     "text": [
      "the new search direction pk is [-1.75 -6.25]\n",
      "updated Lagrange multipliers [0. 0. 0.]\n"
     ]
    }
   ],
   "source": [
    "# Construct KKT system\n",
    "n_active = len(Wk) \n",
    "lk_I = np.zeros(m) # Lagrange multipliers for all inequality constraints\n",
    "Z = np.zeros([n_active, n_active])\n",
    "\n",
    "if n_active > 0:\n",
    "    L = np.block([[Bk, -Ck[Wk].T],\n",
    "                  [-Ck[Wk], Z]])\n",
    "else:\n",
    "    L = Bk # no active constraints\n",
    "\n",
    "y    = np.append(-grad(f)(xk).squeeze() + np.matmul(Ck[Wk].T, lk_I[Wk]), np.zeros(n_active) )\n",
    "soln = np.linalg.solve(L, y)\n",
    "pk   = soln[:n]\n",
    "\n",
    "if n_active > 0:\n",
    "    lk_I[Wk] = soln[-n_active:]\n",
    "print(f'the new search direction pk is {pk}')\n",
    "print(f'updated Lagrange multipliers {lk_I}')"
   ]
  },
  {
   "cell_type": "markdown",
   "id": "af424fd4-82bf-4750-bc83-61c68a17d178",
   "metadata": {},
   "source": [
    "## Note that $\\lambda_i = 0$ for all inactive constraints. So after every solution of the subproblem, we set the Lagrange parameters for inactive constraints to 0. The following block of code does that"
   ]
  },
  {
   "cell_type": "code",
   "execution_count": 6,
   "id": "90fb5ad9-62e4-48fa-9e1d-b0f422e3cf59",
   "metadata": {
    "tags": []
   },
   "outputs": [],
   "source": [
    "mask = np.full(m, True, dtype=bool)\n",
    "mask[Wk] = False # identify inactive constraints\n",
    "I_k = np.arange(m)[mask]\n",
    "lk_I[I_k] = np.zeros_like(I_k)"
   ]
  },
  {
   "cell_type": "markdown",
   "id": "52d8bd8b-d0b5-43bf-8d1d-d8ec9a656cef",
   "metadata": {},
   "source": [
    "# Find which constraints are blocking"
   ]
  },
  {
   "cell_type": "code",
   "execution_count": 7,
   "id": "b597ec88-759d-4de9-a2fe-245792dce892",
   "metadata": {
    "tags": []
   },
   "outputs": [
    {
     "name": "stdout",
     "output_type": "stream",
     "text": [
      "constraints [1 2 3] are potentially blocking\n"
     ]
    }
   ],
   "source": [
    "cTp = []\n",
    "for i in range(m):\n",
    "    cTp.append(np.dot(Ck[i], pk))\n",
    "blocking_ind = np.arange(m)[np.array(cTp) < 0]\n",
    "print(f'constraints {blocking_ind + 1} are potentially blocking')"
   ]
  },
  {
   "cell_type": "markdown",
   "id": "a160b94f-ba2a-4946-bab8-5a3abf57c22a",
   "metadata": {},
   "source": [
    "# Find a step length for each blocking constraint (that will make it active)"
   ]
  },
  {
   "cell_type": "code",
   "execution_count": 8,
   "id": "b40890cc-a4af-4732-9fad-923aad0399cc",
   "metadata": {
    "tags": []
   },
   "outputs": [
    {
     "name": "stdout",
     "output_type": "stream",
     "text": [
      "alpha_1 = 0.3595505617977528\n",
      "alpha_2 = 1.7142857142857142\n",
      "alpha_3 = 0.32\n",
      "chosen step length alpha_k 0.32\n"
     ]
    }
   ],
   "source": [
    "# step lengths\n",
    "a = np.zeros(m)\n",
    "for i in blocking_ind:\n",
    "    a[i] = -(np.dot(Ck[i],xk.squeeze()) + d[i]) / np.dot(Ck[i], pk) \n",
    "    print(f'alpha_{i+1} = {a[i]}')\n",
    "ak = min(1, min(a[blocking_ind]))\n",
    "print(f'chosen step length alpha_k {ak}')"
   ]
  },
  {
   "cell_type": "markdown",
   "id": "64d7473f-9971-4c46-a6a5-61a2d7d4ae17",
   "metadata": {},
   "source": [
    "# Now that we found appropriate step length, we take the new step"
   ]
  },
  {
   "cell_type": "code",
   "execution_count": 9,
   "id": "b1da9a03-64d9-463a-a9fc-f74e581893cd",
   "metadata": {
    "tags": []
   },
   "outputs": [
    {
     "name": "stdout",
     "output_type": "stream",
     "text": [
      "new point xk [[2.44 0.  ]]\n"
     ]
    }
   ],
   "source": [
    "# take a new step\n",
    "xk = xk + ak * pk\n",
    "print(f'new point xk {xk}')"
   ]
  },
  {
   "cell_type": "markdown",
   "id": "20194bb5-4ea9-4249-8418-7c69bafc2d9d",
   "metadata": {
    "tags": []
   },
   "source": [
    "# At the new step, new constraints may be active, active constraints may go inactive, so we need to update it"
   ]
  },
  {
   "cell_type": "code",
   "execution_count": 10,
   "id": "90ee2b19-38bc-47fd-87be-d44cd35cd56c",
   "metadata": {
    "tags": []
   },
   "outputs": [
    {
     "name": "stdout",
     "output_type": "stream",
     "text": [
      "constraint 1 at new point 0.8799999999999999\n",
      "constraint 2 at new point 2.44\n",
      "constraint 3 at new point 0.0\n",
      "active constraints set [2]\n"
     ]
    }
   ],
   "source": [
    "# Update working constraint set\n",
    "Wk = []\n",
    "for i in range(m):\n",
    "    print(f'constraint {i+1} at new point {c[i](xk)}')\n",
    "    if np.abs(c[i](xk)) <= 1e-12:\n",
    "        Wk.append(i)\n",
    "print(f'active constraints set {Wk}')        "
   ]
  },
  {
   "cell_type": "markdown",
   "id": "277cab2d-4cef-46ae-ba21-92179246f313",
   "metadata": {},
   "source": [
    "# We have a new point, so solve the subproblem again"
   ]
  },
  {
   "cell_type": "code",
   "execution_count": 11,
   "id": "2d5c3364-e36d-4eaa-ba0c-8b095a9b71cc",
   "metadata": {
    "tags": []
   },
   "outputs": [
    {
     "name": "stdout",
     "output_type": "stream",
     "text": [
      "[-2.60666672e+00  6.66133815e-16  5.66666667e+00]\n",
      "the new search direction pk is [-2.60666672e+00  6.66133815e-16]\n",
      "updated Lagrange multipliers [0.         0.         5.66666667]\n"
     ]
    }
   ],
   "source": [
    "# Construct KKT system\n",
    "n_active = len(Wk)\n",
    "Z = np.zeros([n_active, n_active])\n",
    "if n_active > 0:\n",
    "    L = np.block([[Bk, -Ck[Wk].T],\n",
    "                  [-Ck[Wk], Z]])\n",
    "else:\n",
    "    L = Bk\n",
    "y = np.append(-grad(f)(xk).squeeze() + np.matmul(Ck[Wk].T, lk_I[Wk]), np.zeros(n_active) )\n",
    "soln = np.linalg.solve(L, y)\n",
    "pk = soln[:n]\n",
    "print(soln)\n",
    "lk_I[Wk] = soln[-n_active:]\n",
    "print(f'the new search direction pk is {pk}')\n",
    "print(f'updated Lagrange multipliers {lk_I}')"
   ]
  },
  {
   "cell_type": "code",
   "execution_count": 12,
   "id": "77f481c9-d49f-4021-9288-3c1c5b5be88a",
   "metadata": {
    "tags": []
   },
   "outputs": [],
   "source": [
    "mask = np.full(m, True, dtype=bool)\n",
    "mask[Wk] = False # identify inactive constraints\n",
    "I_k = np.arange(m)[mask]\n",
    "lk_I[I_k] = np.zeros_like(I_k)"
   ]
  },
  {
   "cell_type": "markdown",
   "id": "b97da71f-c2a6-4ba6-bcf2-3395fe5c1002",
   "metadata": {},
   "source": [
    "## find blocking constraints"
   ]
  },
  {
   "cell_type": "code",
   "execution_count": 13,
   "id": "d8b3589c-ad7b-4396-be35-910262097962",
   "metadata": {
    "tags": []
   },
   "outputs": [
    {
     "name": "stdout",
     "output_type": "stream",
     "text": [
      "-5.21333344777425\n",
      "-2.606666723887126\n",
      "6.661338147750938e-16\n",
      "constraints [1 2] are potentially blocking\n"
     ]
    }
   ],
   "source": [
    "cTp = []\n",
    "for i in range(m):\n",
    "    cTp.append(np.dot(Ck[i], pk))\n",
    "    print(np.dot(Ck[i], pk))\n",
    "blocking_ind = np.arange(m)[np.array(cTp) < 0]\n",
    "print(f'constraints {blocking_ind + 1} are potentially blocking')"
   ]
  },
  {
   "cell_type": "markdown",
   "id": "2026f82e-6cc8-473e-8973-c620c2e7fcc7",
   "metadata": {},
   "source": [
    "# find step lengths for blocking constraints"
   ]
  },
  {
   "cell_type": "code",
   "execution_count": 14,
   "id": "88b941cd-8283-449f-bbe4-3fb9b343c1a6",
   "metadata": {
    "tags": []
   },
   "outputs": [
    {
     "name": "stdout",
     "output_type": "stream",
     "text": [
      "alpha_1 = 0.16879795025881222\n",
      "alpha_2 = 0.9360613605261403\n",
      "chosen step length alpha_k 0.16879795025881222\n"
     ]
    }
   ],
   "source": [
    "# step lengths\n",
    "a = np.zeros(m)\n",
    "for i in blocking_ind:\n",
    "    a[i] = -(np.dot(Ck[i],xk.squeeze()) + d[i]) / np.dot(Ck[i], pk) \n",
    "    print(f'alpha_{i+1} = {a[i]}')\n",
    "ak = min(a[blocking_ind])\n",
    "print(f'chosen step length alpha_k {ak}')"
   ]
  },
  {
   "cell_type": "code",
   "execution_count": 15,
   "id": "eddf634e-f9f9-4df0-87b3-4e71c5cfd4d7",
   "metadata": {
    "tags": []
   },
   "outputs": [
    {
     "name": "stdout",
     "output_type": "stream",
     "text": [
      "new point [[2.00000000e+00 1.12442023e-16]]\n"
     ]
    }
   ],
   "source": [
    "# take a new step\n",
    "xk = xk + ak * pk\n",
    "print(f'new point {xk}')"
   ]
  },
  {
   "cell_type": "markdown",
   "id": "ac24d962-6c7b-4422-aa44-eff074c2cfc7",
   "metadata": {},
   "source": [
    "# update working set"
   ]
  },
  {
   "cell_type": "code",
   "execution_count": 16,
   "id": "84e8289e-9734-47d4-836a-2b32bc6ffbaa",
   "metadata": {
    "tags": []
   },
   "outputs": [
    {
     "name": "stdout",
     "output_type": "stream",
     "text": [
      "constraint 1 at new point 0.0\n",
      "constraint 2 at new point 1.9999999999999998\n",
      "constraint 3 at new point 1.1244202253211913e-16\n",
      "active constraints set [0, 2]\n"
     ]
    }
   ],
   "source": [
    "# Update working constraint set\n",
    "Wk = []\n",
    "for i in range(m):\n",
    "    print(f'constraint {i+1} at new point {c[i](xk)}')\n",
    "    if np.abs(c[i](xk)) <= 1e-12:\n",
    "        Wk.append(i)\n",
    "print(f'active constraints set {Wk}')        "
   ]
  },
  {
   "cell_type": "markdown",
   "id": "55ee97e6-2045-4131-bc75-6f3c9f3d5450",
   "metadata": {},
   "source": [
    "# construct new subproblem"
   ]
  },
  {
   "cell_type": "code",
   "execution_count": 17,
   "id": "8889e67f-23f6-4f45-a55e-7325b5fba5b5",
   "metadata": {
    "tags": []
   },
   "outputs": [
    {
     "name": "stdout",
     "output_type": "stream",
     "text": [
      "[-3.72717730e-16  2.29974769e-16  6.50000000e+00 -1.51666665e+01]\n",
      "the new search direction pk is [-3.72717730e-16  2.29974769e-16]\n",
      "updated Lagrange multipliers [  6.5          0.         -15.16666651]\n"
     ]
    }
   ],
   "source": [
    "# Construct KKT system\n",
    "n_active = len(Wk)\n",
    "Z = np.zeros([n_active, n_active])\n",
    "if n_active > 0:\n",
    "    L = np.block([[Bk, -Ck[Wk].T],\n",
    "                  [-Ck[Wk], Z]])\n",
    "else:\n",
    "    L = Bk\n",
    "y = np.append(-grad(f)(xk).squeeze() + np.matmul(Ck[Wk].T, lk_I[Wk]), np.zeros(n_active))\n",
    "soln = np.linalg.solve(L, y)\n",
    "pk = soln[:n]\n",
    "print(soln)\n",
    "lk_I[Wk] = soln[-n_active:]\n",
    "print(f'the new search direction pk is {pk}')\n",
    "print(f'updated Lagrange multipliers {lk_I}')"
   ]
  },
  {
   "cell_type": "code",
   "execution_count": 18,
   "id": "ad1fdd60-96b3-4819-aed2-fffd3eacd81e",
   "metadata": {
    "tags": []
   },
   "outputs": [],
   "source": [
    "mask = np.full(m, True, dtype=bool)\n",
    "mask[Wk] = False # identify inactive constraints\n",
    "I_k = np.arange(m)[mask]\n",
    "lk_I[I_k] = np.zeros_like(I_k)"
   ]
  },
  {
   "cell_type": "markdown",
   "id": "7e84e9b4-add9-4897-8046-1b74fa93ed4a",
   "metadata": {},
   "source": [
    "# notice that $pk$ is 0, so now we check for signs of all Lagrange parameters"
   ]
  },
  {
   "cell_type": "code",
   "execution_count": 19,
   "id": "d0583896-eee1-476e-a141-c508c8a19f78",
   "metadata": {
    "tags": []
   },
   "outputs": [
    {
     "name": "stdout",
     "output_type": "stream",
     "text": [
      "negative Lagrange parameters, remove one of them from working set\n"
     ]
    }
   ],
   "source": [
    "if np.linalg.norm(pk, np.inf) <= 1e-12: # p=0, check Lagrange parameter signs\n",
    "    if any(lk_I < 0):\n",
    "        print('negative Lagrange parameters, remove one of them from working set')"
   ]
  },
  {
   "cell_type": "markdown",
   "id": "c0418aa0-c557-47e2-8dc2-07344f9af724",
   "metadata": {},
   "source": [
    "## When there are one or more negative Lagrange parameters, we remove the most negative constraint from the working set and retry. That is $x_{k+1} = x_k$ (so don't take the new step) and $\\mathcal{W}_{k+1} = \\mathcal{W}_k \\backslash \\{i~ \\text{corresponding to most negative} \\lambda_i\\}$"
   ]
  },
  {
   "cell_type": "code",
   "execution_count": 20,
   "id": "9929e20e-7377-4951-af27-55ffdcc740b2",
   "metadata": {
    "tags": []
   },
   "outputs": [
    {
     "name": "stdout",
     "output_type": "stream",
     "text": [
      "updated working set [0]\n"
     ]
    }
   ],
   "source": [
    "negative_l_inds = np.arange(m)[lk_I < 0]\n",
    "\n",
    "if len(lk_I[negative_l_inds]) == 0:\n",
    "    print('all Lagrange parameters are nonnegative')\n",
    "elif len(lk_I[negative_l_inds]) == 1:\n",
    "    Wk.remove(negative_l_inds)\n",
    "else:\n",
    "    Wk.remove(lk_I.argmin())\n",
    "print(f'updated working set {Wk}')"
   ]
  },
  {
   "cell_type": "code",
   "execution_count": 21,
   "id": "360ce7fc-739f-49ac-905c-a96c2cdde536",
   "metadata": {
    "tags": []
   },
   "outputs": [],
   "source": [
    "mask = np.full(m, True, dtype=bool)\n",
    "mask[Wk] = False # identify inactive constraints\n",
    "I_k = np.arange(m)[mask]\n",
    "lk_I[I_k] = np.zeros_like(I_k)"
   ]
  },
  {
   "cell_type": "markdown",
   "id": "5c49f3e7-102a-417a-a61b-a84a588cdefa",
   "metadata": {},
   "source": [
    "## Now reconstruct the KKT system. Note that $x_k$ stays the same (so $B_k$, $g_k$ stay the same) however, the Lagrange parameters will be newly estimated"
   ]
  },
  {
   "cell_type": "code",
   "execution_count": 22,
   "id": "d73ec406-e240-4686-9a8e-e1cfbecb8032",
   "metadata": {
    "tags": []
   },
   "outputs": [
    {
     "name": "stdout",
     "output_type": "stream",
     "text": [
      "[-1.5  1.  -3.5]\n",
      "the new search direction is [-1.5  1. ]\n",
      "updated Lagrange multipliers [-3.5  0.   0. ]\n"
     ]
    }
   ],
   "source": [
    "# Construct KKT system\n",
    "n_active = len(Wk)\n",
    "# lk_I = np.zeros(m)\n",
    "Z = np.zeros([n_active, n_active])\n",
    "if n_active > 0:\n",
    "    L = np.block([[Bk, -Ck[Wk].T],\n",
    "                  [-Ck[Wk], Z]])\n",
    "else:\n",
    "    L = Bk\n",
    "y = np.append(-grad(f)(xk).squeeze() + np.matmul(Ck[Wk].T, lk_I[Wk]), np.zeros(n_active) )\n",
    "soln = np.linalg.solve(L, y)\n",
    "pk = soln[:n]\n",
    "print(soln)\n",
    "lk_I[Wk] = soln[-n_active:]\n",
    "print(f'the new search direction is {pk}')\n",
    "print(f'updated Lagrange multipliers {lk_I}')"
   ]
  },
  {
   "cell_type": "code",
   "execution_count": 23,
   "id": "8d5b1a53-5b4c-4801-8374-1e4d6c853ff9",
   "metadata": {
    "tags": []
   },
   "outputs": [],
   "source": [
    "mask = np.full(m, True, dtype=bool)\n",
    "mask[Wk] = False # identify inactive constraints\n",
    "I_k = np.arange(m)[mask]\n",
    "lk_I[I_k] = np.zeros_like(I_k)"
   ]
  },
  {
   "cell_type": "code",
   "execution_count": 24,
   "id": "76eca487-6e3d-4486-8ccf-31dd98d9e9fe",
   "metadata": {
    "tags": []
   },
   "outputs": [
    {
     "name": "stdout",
     "output_type": "stream",
     "text": [
      "-8.881784197001252e-16\n",
      "-1.5\n",
      "0.9999999999999998\n",
      "constraints [1] are potentially blocking\n"
     ]
    }
   ],
   "source": [
    "cTp = []\n",
    "for i in range(m):\n",
    "    cTp.append(np.dot(Ck[i], pk))\n",
    "    print(np.dot(Ck[i], pk))\n",
    "blocking_ind = np.arange(m)[np.array(cTp) < -1e-12 ]\n",
    "print(f'constraints {blocking_ind} are potentially blocking')"
   ]
  },
  {
   "cell_type": "code",
   "execution_count": 25,
   "id": "6254d935-3791-4169-8f44-76947e3c3781",
   "metadata": {
    "tags": []
   },
   "outputs": [
    {
     "name": "stdout",
     "output_type": "stream",
     "text": [
      "alpha_2 = 1.3333333333333333\n",
      "chosen step length alpha_k 1.0\n"
     ]
    }
   ],
   "source": [
    "# step lengths\n",
    "a = np.zeros(m)\n",
    "for i in blocking_ind:\n",
    "    a[i] = -(np.dot(Ck[i],xk.squeeze()) + d[i]) / np.dot(Ck[i], pk) \n",
    "    print(f'alpha_{i+1} = {a[i]}')\n",
    "ak = min(1., min(a[blocking_ind]))\n",
    "print(f'chosen step length alpha_k {ak}')"
   ]
  },
  {
   "cell_type": "code",
   "execution_count": 26,
   "id": "ad21ef1c-aefb-4d08-8ffb-bc6b2eb4b5e9",
   "metadata": {
    "tags": []
   },
   "outputs": [
    {
     "name": "stdout",
     "output_type": "stream",
     "text": [
      "new point [[0.5 1. ]]\n"
     ]
    }
   ],
   "source": [
    "# take a new step\n",
    "xk = xk + ak * pk\n",
    "print(f'new point {xk}')"
   ]
  },
  {
   "cell_type": "code",
   "execution_count": 27,
   "id": "689be4d1-d88c-471b-b993-ff4259d4d557",
   "metadata": {
    "tags": []
   },
   "outputs": [
    {
     "name": "stdout",
     "output_type": "stream",
     "text": [
      "constraint 1 at new point -8.881784197001252e-16\n",
      "constraint 2 at new point 0.4999999999999998\n",
      "constraint 3 at new point 0.9999999999999999\n",
      "active constraints set [0]\n"
     ]
    }
   ],
   "source": [
    "# Update working constraint set\n",
    "Wk = []\n",
    "for i in range(m):\n",
    "    print(f'constraint {i+1} at new point {c[i](xk)}')\n",
    "    if np.abs(c[i](xk)) <= 1e-12:\n",
    "        Wk.append(i)\n",
    "print(f'active constraints set {Wk}') "
   ]
  },
  {
   "cell_type": "code",
   "execution_count": 28,
   "id": "60816bb5-fc38-4046-a36c-d8c72f5b9988",
   "metadata": {
    "tags": []
   },
   "outputs": [
    {
     "name": "stdout",
     "output_type": "stream",
     "text": [
      "[-3.72717730e-16  2.29974769e-16  6.50000000e+00]\n",
      "the new search direction pk is [-3.72717730e-16  2.29974769e-16]\n",
      "updated Lagrange multipliers [6.5 0.  0. ]\n"
     ]
    }
   ],
   "source": [
    "# Construct KKT system\n",
    "n_active = len(Wk)\n",
    "# lk_I = np.zeros(m)\n",
    "Z = np.zeros([n_active, n_active])\n",
    "if n_active > 0:\n",
    "    L = np.block([[Bk, -Ck[Wk].T],\n",
    "                  [-Ck[Wk], Z]])\n",
    "else:\n",
    "    L = Bk\n",
    "y = np.append(-grad(f)(xk).squeeze() + np.matmul(Ck[Wk].T, lk_I[Wk]), np.zeros(n_active) )\n",
    "soln = np.linalg.solve(L, y)\n",
    "pk = soln[:n]\n",
    "print(soln)\n",
    "lk_I[Wk] = soln[-n_active:]\n",
    "print(f'the new search direction pk is {pk}')\n",
    "print(f'updated Lagrange multipliers {lk_I}')"
   ]
  },
  {
   "cell_type": "markdown",
   "id": "f1e989be-3b18-4302-8258-eae491df8e44",
   "metadata": {},
   "source": [
    "# Notice that $p_k = 0$ and all Lagrange multipliers are nonnegative. So we're done! $x^* = [0.5, 1.0]^T$"
   ]
  }
 ],
 "metadata": {
  "kernelspec": {
   "display_name": "Python [conda env:base] *",
   "language": "python",
   "name": "conda-base-py"
  },
  "language_info": {
   "codemirror_mode": {
    "name": "ipython",
    "version": 3
   },
   "file_extension": ".py",
   "mimetype": "text/x-python",
   "name": "python",
   "nbconvert_exporter": "python",
   "pygments_lexer": "ipython3",
   "version": "3.11.5"
  }
 },
 "nbformat": 4,
 "nbformat_minor": 5
}
